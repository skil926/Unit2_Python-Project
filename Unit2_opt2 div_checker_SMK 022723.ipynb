{
 "cells": [
  {
   "cell_type": "code",
   "execution_count": null,
   "metadata": {},
   "outputs": [
    {
     "name": "stdout",
     "output_type": "stream",
     "text": [
      "Divisibility Checker\n",
      "Enter a number to check: 66\n",
      "Enter a number to divide by: 6\n",
      "\n",
      "Divisible. \n",
      "\tAnswer is  11\n",
      "\n",
      "Enter a number to check: 2594\n",
      "Enter a number to divide by: 5\n",
      "\n",
      "Not Divisible\n"
     ]
    }
   ],
   "source": [
    "#Divisibility Checker\n",
    "\n",
    "print(\"Divisibility Checker\")\n",
    "\n",
    "num = int(input(\"Enter a number to check: \"))\n",
    "check = int(input(\"Enter a number to divide by: \"))\n",
    "\n",
    "while num > 0 and check < num:\n",
    "    if (num % check) == 0:\n",
    "        print(\"\\nDivisible. \\n\\tAnswer is \",int(num/check))\n",
    "    else:\n",
    "        print(\"\\nNot Divisible\")\n",
    "       \n",
    "    num = int(input(\"\\nEnter a number to check: \"))\n",
    "    check = int(input(\"Enter a number to divide by: \"))"
   ]
  },
  {
   "cell_type": "code",
   "execution_count": null,
   "metadata": {},
   "outputs": [],
   "source": []
  }
 ],
 "metadata": {
  "kernelspec": {
   "display_name": "Python 3",
   "language": "python",
   "name": "python3"
  },
  "language_info": {
   "codemirror_mode": {
    "name": "ipython",
    "version": 3
   },
   "file_extension": ".py",
   "mimetype": "text/x-python",
   "name": "python",
   "nbconvert_exporter": "python",
   "pygments_lexer": "ipython3",
   "version": "3.8.5"
  }
 },
 "nbformat": 4,
 "nbformat_minor": 4
}
