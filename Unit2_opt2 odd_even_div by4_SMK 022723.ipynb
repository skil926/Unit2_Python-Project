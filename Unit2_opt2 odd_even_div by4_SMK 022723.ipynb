{
 "cells": [
  {
   "cell_type": "code",
   "execution_count": null,
   "metadata": {},
   "outputs": [
    {
     "name": "stdout",
     "output_type": "stream",
     "text": [
      "Enter any number to test if it is odd or even\n",
      "Enter a number: 591\n",
      "591 is Odd\n",
      "Enter a number: 568\n",
      "568 is Even and divisible by 4\n",
      "Enter a number: 1918\n",
      "1918 is Even\n"
     ]
    }
   ],
   "source": [
    "# odd vs even and divisible by 4\n",
    "\n",
    "print(\"Enter any number to test if it is odd or even\")\n",
    "\n",
    "num = int(input(\"Enter a number: \"))\n",
    "while num > 0:\n",
    "    if ((num % 2) == 0 and (num % 4)==0):\n",
    "        print(\"{0} is Even and divisible by 4\".format(num))\n",
    "    elif ((num % 2) == 0 and (num % 4)>0):\n",
    "        print(\"{0} is Even\".format(num))\n",
    "    else:\n",
    "        print(\"{0} is Odd\".format(num))\n",
    "       \n",
    "    num = int(input(\"Enter a number: \"))"
   ]
  },
  {
   "cell_type": "code",
   "execution_count": null,
   "metadata": {},
   "outputs": [],
   "source": []
  }
 ],
 "metadata": {
  "kernelspec": {
   "display_name": "Python 3",
   "language": "python",
   "name": "python3"
  },
  "language_info": {
   "codemirror_mode": {
    "name": "ipython",
    "version": 3
   },
   "file_extension": ".py",
   "mimetype": "text/x-python",
   "name": "python",
   "nbconvert_exporter": "python",
   "pygments_lexer": "ipython3",
   "version": "3.8.5"
  }
 },
 "nbformat": 4,
 "nbformat_minor": 4
}
